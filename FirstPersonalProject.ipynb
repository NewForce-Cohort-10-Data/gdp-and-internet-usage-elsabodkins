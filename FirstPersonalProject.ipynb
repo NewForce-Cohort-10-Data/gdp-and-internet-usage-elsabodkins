{
 "cells": [
  {
   "cell_type": "markdown",
   "id": "5bcb9aa3-6975-4091-b384-417b40e656ef",
   "metadata": {},
   "source": [
    "# 3. Import the required packages with their customary aliases as follows:"
   ]
  },
  {
   "cell_type": "code",
   "execution_count": 10,
   "id": "a869f488-ed22-4752-baf1-7c1850badeaa",
   "metadata": {},
   "outputs": [],
   "source": [
    "import pandas as pd\n",
    "import numpy as np\n",
    "import matplotlib.pyplot as plt\n",
    "import seaborn as sns"
   ]
  },
  {
   "cell_type": "code",
   "execution_count": 110,
   "id": "4e9f270a-8af9-4cf0-a28a-ea709bf6fcc4",
   "metadata": {},
   "outputs": [
    {
     "data": {
      "text/html": [
       "<div>\n",
       "<style scoped>\n",
       "    .dataframe tbody tr th:only-of-type {\n",
       "        vertical-align: middle;\n",
       "    }\n",
       "\n",
       "    .dataframe tbody tr th {\n",
       "        vertical-align: top;\n",
       "    }\n",
       "\n",
       "    .dataframe thead th {\n",
       "        text-align: right;\n",
       "    }\n",
       "</style>\n",
       "<table border=\"1\" class=\"dataframe\">\n",
       "  <thead>\n",
       "    <tr style=\"text-align: right;\">\n",
       "      <th></th>\n",
       "      <th>Country or Area</th>\n",
       "      <th>Year</th>\n",
       "      <th>Value</th>\n",
       "      <th>Value Footnotes</th>\n",
       "    </tr>\n",
       "  </thead>\n",
       "  <tbody>\n",
       "    <tr>\n",
       "      <th>0</th>\n",
       "      <td>Afghanistan</td>\n",
       "      <td>2023</td>\n",
       "      <td>1992.424394</td>\n",
       "      <td>NaN</td>\n",
       "    </tr>\n",
       "    <tr>\n",
       "      <th>1</th>\n",
       "      <td>Afghanistan</td>\n",
       "      <td>2022</td>\n",
       "      <td>1981.710168</td>\n",
       "      <td>NaN</td>\n",
       "    </tr>\n",
       "    <tr>\n",
       "      <th>2</th>\n",
       "      <td>Afghanistan</td>\n",
       "      <td>2021</td>\n",
       "      <td>2144.166570</td>\n",
       "      <td>NaN</td>\n",
       "    </tr>\n",
       "    <tr>\n",
       "      <th>3</th>\n",
       "      <td>Afghanistan</td>\n",
       "      <td>2020</td>\n",
       "      <td>2769.685745</td>\n",
       "      <td>NaN</td>\n",
       "    </tr>\n",
       "    <tr>\n",
       "      <th>4</th>\n",
       "      <td>Afghanistan</td>\n",
       "      <td>2019</td>\n",
       "      <td>2927.245144</td>\n",
       "      <td>NaN</td>\n",
       "    </tr>\n",
       "  </tbody>\n",
       "</table>\n",
       "</div>"
      ],
      "text/plain": [
       "  Country or Area  Year        Value  Value Footnotes\n",
       "0     Afghanistan  2023  1992.424394              NaN\n",
       "1     Afghanistan  2022  1981.710168              NaN\n",
       "2     Afghanistan  2021  2144.166570              NaN\n",
       "3     Afghanistan  2020  2769.685745              NaN\n",
       "4     Afghanistan  2019  2927.245144              NaN"
      ]
     },
     "execution_count": 110,
     "metadata": {},
     "output_type": "execute_result"
    }
   ],
   "source": [
    "gdp_df = pd.read_csv(\"../data/gdp_percapita.csv\")\n",
    "gdp_df.head()"
   ]
  },
  {
   "cell_type": "code",
   "execution_count": 69,
   "id": "e88147f3-b58f-4f58-8e7b-92b130b0d576",
   "metadata": {},
   "outputs": [
    {
     "data": {
      "text/html": [
       "<div>\n",
       "<style scoped>\n",
       "    .dataframe tbody tr th:only-of-type {\n",
       "        vertical-align: middle;\n",
       "    }\n",
       "\n",
       "    .dataframe tbody tr th {\n",
       "        vertical-align: top;\n",
       "    }\n",
       "\n",
       "    .dataframe thead th {\n",
       "        text-align: right;\n",
       "    }\n",
       "</style>\n",
       "<table border=\"1\" class=\"dataframe\">\n",
       "  <thead>\n",
       "    <tr style=\"text-align: right;\">\n",
       "      <th></th>\n",
       "      <th>Country or Area</th>\n",
       "      <th>Year</th>\n",
       "      <th>Value</th>\n",
       "      <th>Value Footnotes</th>\n",
       "    </tr>\n",
       "  </thead>\n",
       "  <tbody>\n",
       "    <tr>\n",
       "      <th>8214</th>\n",
       "      <td>Zimbabwe</td>\n",
       "      <td>1994</td>\n",
       "      <td>3965.730986</td>\n",
       "      <td>NaN</td>\n",
       "    </tr>\n",
       "    <tr>\n",
       "      <th>8215</th>\n",
       "      <td>Zimbabwe</td>\n",
       "      <td>1993</td>\n",
       "      <td>3634.750494</td>\n",
       "      <td>NaN</td>\n",
       "    </tr>\n",
       "    <tr>\n",
       "      <th>8216</th>\n",
       "      <td>Zimbabwe</td>\n",
       "      <td>1992</td>\n",
       "      <td>3649.891947</td>\n",
       "      <td>NaN</td>\n",
       "    </tr>\n",
       "    <tr>\n",
       "      <th>8217</th>\n",
       "      <td>Zimbabwe</td>\n",
       "      <td>1991</td>\n",
       "      <td>4126.405247</td>\n",
       "      <td>NaN</td>\n",
       "    </tr>\n",
       "    <tr>\n",
       "      <th>8218</th>\n",
       "      <td>Zimbabwe</td>\n",
       "      <td>1990</td>\n",
       "      <td>4013.299059</td>\n",
       "      <td>NaN</td>\n",
       "    </tr>\n",
       "  </tbody>\n",
       "</table>\n",
       "</div>"
      ],
      "text/plain": [
       "     Country or Area  Year        Value  Value Footnotes\n",
       "8214        Zimbabwe  1994  3965.730986              NaN\n",
       "8215        Zimbabwe  1993  3634.750494              NaN\n",
       "8216        Zimbabwe  1992  3649.891947              NaN\n",
       "8217        Zimbabwe  1991  4126.405247              NaN\n",
       "8218        Zimbabwe  1990  4013.299059              NaN"
      ]
     },
     "execution_count": 69,
     "metadata": {},
     "output_type": "execute_result"
    }
   ],
   "source": [
    "gdp_df.tail(5)"
   ]
  },
  {
   "cell_type": "markdown",
   "id": "eb3a1125-4749-439c-81bb-a5f3176977b0",
   "metadata": {},
   "source": [
    "# 5.How many rows and columns are in gdp_df? What are the data types of each column?"
   ]
  },
  {
   "cell_type": "code",
   "execution_count": 71,
   "id": "150935c7-64d4-4180-87e1-1e749414bf07",
   "metadata": {},
   "outputs": [
    {
     "data": {
      "text/plain": [
       "Index(['Country or Area', 'Year', 'Value', 'Value Footnotes'], dtype='object')"
      ]
     },
     "execution_count": 71,
     "metadata": {},
     "output_type": "execute_result"
    }
   ],
   "source": [
    "gdp_df.columns"
   ]
  },
  {
   "cell_type": "markdown",
   "id": "ace63f1c-41fa-4900-893d-672679ce0845",
   "metadata": {},
   "source": [
    "There are 5 columns and 8219 rows. "
   ]
  },
  {
   "cell_type": "code",
   "execution_count": 74,
   "id": "75522f6d-851a-45d6-97d6-af3b7d7ef632",
   "metadata": {},
   "outputs": [
    {
     "data": {
      "text/plain": [
       "<bound method DataFrame.info of      Country or Area  Year        Value  Value Footnotes\n",
       "0        Afghanistan  2023  1992.424394              NaN\n",
       "1        Afghanistan  2022  1981.710168              NaN\n",
       "2        Afghanistan  2021  2144.166570              NaN\n",
       "3        Afghanistan  2020  2769.685745              NaN\n",
       "4        Afghanistan  2019  2927.245144              NaN\n",
       "...              ...   ...          ...              ...\n",
       "8214        Zimbabwe  1994  3965.730986              NaN\n",
       "8215        Zimbabwe  1993  3634.750494              NaN\n",
       "8216        Zimbabwe  1992  3649.891947              NaN\n",
       "8217        Zimbabwe  1991  4126.405247              NaN\n",
       "8218        Zimbabwe  1990  4013.299059              NaN\n",
       "\n",
       "[8219 rows x 4 columns]>"
      ]
     },
     "execution_count": 74,
     "metadata": {},
     "output_type": "execute_result"
    }
   ],
   "source": [
    "gdp_df.info"
   ]
  },
  {
   "cell_type": "code",
   "execution_count": 76,
   "id": "c5c8892f-8623-467e-bab7-c88a074ebe7d",
   "metadata": {},
   "outputs": [
    {
     "name": "stdout",
     "output_type": "stream",
     "text": [
      "Country or Area     object\n",
      "Year                 int64\n",
      "Value              float64\n",
      "Value Footnotes    float64\n",
      "dtype: object\n"
     ]
    }
   ],
   "source": [
    "print(gdp_df.dtypes)"
   ]
  },
  {
   "cell_type": "markdown",
   "id": "f465d5fe-74a7-49ce-aea3-8e0f93ac6b44",
   "metadata": {},
   "source": [
    "Country or Area = string \n",
    "Year            = integer\n",
    "Value           = decimal \n",
    "Value Footnotes = decimal "
   ]
  },
  {
   "cell_type": "markdown",
   "id": "9e18bfce-0083-464f-9c6c-13035d8bbe45",
   "metadata": {},
   "source": [
    "# 6. Drop the Value Footnotes column and rename the remaining three to 'Country', 'Year', and 'GDP_Per_Capita'."
   ]
  },
  {
   "cell_type": "code",
   "execution_count": 140,
   "id": "318e7a8d-54e8-4177-9524-68da14ae8d9d",
   "metadata": {},
   "outputs": [],
   "source": [
    "gdp_df = gdp_df.drop(columns=[\"Value Footnotes\"])"
   ]
  },
  {
   "cell_type": "code",
   "execution_count": 142,
   "id": "fe702cd6-1978-48b7-9504-e3025ae9b47b",
   "metadata": {},
   "outputs": [
    {
     "data": {
      "text/html": [
       "<div>\n",
       "<style scoped>\n",
       "    .dataframe tbody tr th:only-of-type {\n",
       "        vertical-align: middle;\n",
       "    }\n",
       "\n",
       "    .dataframe tbody tr th {\n",
       "        vertical-align: top;\n",
       "    }\n",
       "\n",
       "    .dataframe thead th {\n",
       "        text-align: right;\n",
       "    }\n",
       "</style>\n",
       "<table border=\"1\" class=\"dataframe\">\n",
       "  <thead>\n",
       "    <tr style=\"text-align: right;\">\n",
       "      <th></th>\n",
       "      <th>Country</th>\n",
       "      <th>Year</th>\n",
       "      <th>GDP_Per_Capita</th>\n",
       "    </tr>\n",
       "  </thead>\n",
       "  <tbody>\n",
       "    <tr>\n",
       "      <th>0</th>\n",
       "      <td>Afghanistan</td>\n",
       "      <td>2023</td>\n",
       "      <td>1992.424394</td>\n",
       "    </tr>\n",
       "    <tr>\n",
       "      <th>1</th>\n",
       "      <td>Afghanistan</td>\n",
       "      <td>2022</td>\n",
       "      <td>1981.710168</td>\n",
       "    </tr>\n",
       "    <tr>\n",
       "      <th>2</th>\n",
       "      <td>Afghanistan</td>\n",
       "      <td>2021</td>\n",
       "      <td>2144.166570</td>\n",
       "    </tr>\n",
       "    <tr>\n",
       "      <th>3</th>\n",
       "      <td>Afghanistan</td>\n",
       "      <td>2020</td>\n",
       "      <td>2769.685745</td>\n",
       "    </tr>\n",
       "    <tr>\n",
       "      <th>4</th>\n",
       "      <td>Afghanistan</td>\n",
       "      <td>2019</td>\n",
       "      <td>2927.245144</td>\n",
       "    </tr>\n",
       "  </tbody>\n",
       "</table>\n",
       "</div>"
      ],
      "text/plain": [
       "       Country  Year  GDP_Per_Capita\n",
       "0  Afghanistan  2023     1992.424394\n",
       "1  Afghanistan  2022     1981.710168\n",
       "2  Afghanistan  2021     2144.166570\n",
       "3  Afghanistan  2020     2769.685745\n",
       "4  Afghanistan  2019     2927.245144"
      ]
     },
     "execution_count": 142,
     "metadata": {},
     "output_type": "execute_result"
    }
   ],
   "source": [
    "gdp_df.head()"
   ]
  },
  {
   "cell_type": "code",
   "execution_count": 144,
   "id": "f9333f45-11a7-4a68-a83b-7225e2ba3e45",
   "metadata": {},
   "outputs": [],
   "source": [
    "gdp_df = gdp_df.rename(columns={\n",
    "    \"Country or Area\": \"Country\",\n",
    "    \"Value\": \"GDP_Per_Capita\"})"
   ]
  },
  {
   "cell_type": "code",
   "execution_count": 146,
   "id": "bf279fb7-44e6-487d-9f86-f863a5a16b88",
   "metadata": {},
   "outputs": [
    {
     "data": {
      "text/html": [
       "<div>\n",
       "<style scoped>\n",
       "    .dataframe tbody tr th:only-of-type {\n",
       "        vertical-align: middle;\n",
       "    }\n",
       "\n",
       "    .dataframe tbody tr th {\n",
       "        vertical-align: top;\n",
       "    }\n",
       "\n",
       "    .dataframe thead th {\n",
       "        text-align: right;\n",
       "    }\n",
       "</style>\n",
       "<table border=\"1\" class=\"dataframe\">\n",
       "  <thead>\n",
       "    <tr style=\"text-align: right;\">\n",
       "      <th></th>\n",
       "      <th>Country</th>\n",
       "      <th>Year</th>\n",
       "      <th>GDP_Per_Capita</th>\n",
       "    </tr>\n",
       "  </thead>\n",
       "  <tbody>\n",
       "    <tr>\n",
       "      <th>0</th>\n",
       "      <td>Afghanistan</td>\n",
       "      <td>2023</td>\n",
       "      <td>1992.424394</td>\n",
       "    </tr>\n",
       "    <tr>\n",
       "      <th>1</th>\n",
       "      <td>Afghanistan</td>\n",
       "      <td>2022</td>\n",
       "      <td>1981.710168</td>\n",
       "    </tr>\n",
       "    <tr>\n",
       "      <th>2</th>\n",
       "      <td>Afghanistan</td>\n",
       "      <td>2021</td>\n",
       "      <td>2144.166570</td>\n",
       "    </tr>\n",
       "    <tr>\n",
       "      <th>3</th>\n",
       "      <td>Afghanistan</td>\n",
       "      <td>2020</td>\n",
       "      <td>2769.685745</td>\n",
       "    </tr>\n",
       "    <tr>\n",
       "      <th>4</th>\n",
       "      <td>Afghanistan</td>\n",
       "      <td>2019</td>\n",
       "      <td>2927.245144</td>\n",
       "    </tr>\n",
       "  </tbody>\n",
       "</table>\n",
       "</div>"
      ],
      "text/plain": [
       "       Country  Year  GDP_Per_Capita\n",
       "0  Afghanistan  2023     1992.424394\n",
       "1  Afghanistan  2022     1981.710168\n",
       "2  Afghanistan  2021     2144.166570\n",
       "3  Afghanistan  2020     2769.685745\n",
       "4  Afghanistan  2019     2927.245144"
      ]
     },
     "execution_count": 146,
     "metadata": {},
     "output_type": "execute_result"
    }
   ],
   "source": [
    "gdp_df.head()"
   ]
  },
  {
   "cell_type": "markdown",
   "id": "25bf2065-a68d-448c-83bf-a1db644b08d8",
   "metadata": {},
   "source": [
    "# 7. How many countries have data for all years?"
   ]
  },
  {
   "cell_type": "code",
   "execution_count": 149,
   "id": "6289ca9e-3148-467d-b1b8-063c21711b28",
   "metadata": {},
   "outputs": [],
   "source": [
    "country_year_counts = gdp_df.groupby(\"Country\")[\"Year\"].count()"
   ]
  },
  {
   "cell_type": "code",
   "execution_count": 151,
   "id": "90545ddd-7168-49e3-89fc-9a3421ef750a",
   "metadata": {
    "scrolled": true
   },
   "outputs": [
    {
     "name": "stdout",
     "output_type": "stream",
     "text": [
      "Country\n",
      "Afghanistan                    24\n",
      "Africa Eastern and Southern    34\n",
      "Africa Western and Central     34\n",
      "Albania                        34\n",
      "Algeria                        34\n",
      "                               ..\n",
      "Virgin Islands                 21\n",
      "West Bank and Gaza             30\n",
      "World                          34\n",
      "Zambia                         34\n",
      "Zimbabwe                       34\n",
      "Name: Year, Length: 247, dtype: int64\n"
     ]
    }
   ],
   "source": [
    "print(country_year_counts)"
   ]
  },
  {
   "cell_type": "code",
   "execution_count": 153,
   "id": "8f63d282-2418-4759-951f-932bfd775e2e",
   "metadata": {},
   "outputs": [
    {
     "name": "stdout",
     "output_type": "stream",
     "text": [
      "34\n"
     ]
    }
   ],
   "source": [
    "total_years = gdp_df[\"Year\"].nunique()\n",
    "print(total_years)"
   ]
  },
  {
   "cell_type": "code",
   "execution_count": 155,
   "id": "58776398-7495-4024-8acd-7af57f372991",
   "metadata": {},
   "outputs": [
    {
     "name": "stdout",
     "output_type": "stream",
     "text": [
      "Country\n",
      "Africa Eastern and Southern    34\n",
      "Africa Western and Central     34\n",
      "Albania                        34\n",
      "Algeria                        34\n",
      "Andorra                        34\n",
      "                               ..\n",
      "Vanuatu                        34\n",
      "Viet Nam                       34\n",
      "World                          34\n",
      "Zambia                         34\n",
      "Zimbabwe                       34\n",
      "Name: Year, Length: 228, dtype: int64\n"
     ]
    }
   ],
   "source": [
    "countries_with_full_data = country_year_counts[country_year_counts == total_years]\n",
    "print(countries_with_full_data)"
   ]
  },
  {
   "cell_type": "markdown",
   "id": "8e896893-943a-4769-b8ec-e8a7e34d20f8",
   "metadata": {},
   "source": [
    "There are 228 countries with full data "
   ]
  },
  {
   "cell_type": "markdown",
   "id": "8ddc124b-3fc6-43e8-9130-87c1a1bd8f1e",
   "metadata": {},
   "source": [
    "# Which countries are missing many years of data?"
   ]
  },
  {
   "cell_type": "code",
   "execution_count": 159,
   "id": "47c107aa-4bac-4e5d-92bf-4e8ad6a3d3bc",
   "metadata": {},
   "outputs": [
    {
     "name": "stdout",
     "output_type": "stream",
     "text": [
      "Country\n",
      "Afghanistan                  24\n",
      "Bhutan                       33\n",
      "Cayman Islands               18\n",
      "CuraÃ§ao                     24\n",
      "Djibouti                     11\n",
      "Faroe Islands                16\n",
      "Greenland                    32\n",
      "Kosovo                       16\n",
      "Lebanon                      33\n",
      "Montenegro                   27\n",
      "San Marino                   26\n",
      "Serbia                       29\n",
      "Sint Maarten (Dutch part)    15\n",
      "Somalia                      33\n",
      "Syrian Arab Republic         33\n",
      "Tonga                        33\n",
      "Turks and Caicos Islands     13\n",
      "Virgin Islands               21\n",
      "West Bank and Gaza           30\n",
      "Name: Year, dtype: int64\n"
     ]
    }
   ],
   "source": [
    "countries_with_missing_data = country_year_counts[country_year_counts < total_years]\n",
    "print(countries_with_missing_data)"
   ]
  },
  {
   "cell_type": "markdown",
   "id": "d6342708-3d4e-4146-a4e8-e35ce4071454",
   "metadata": {},
   "source": [
    "I would define countries missing 5 or more years of data as countries missing many years of data, so 12 countries. "
   ]
  },
  {
   "cell_type": "markdown",
   "id": "44460dc3-4585-4a94-88db-a90e65ec4fc4",
   "metadata": {},
   "source": [
    "# 8. Create a histogram"
   ]
  },
  {
   "cell_type": "code",
   "execution_count": 264,
   "id": "3d294b15-beb1-4af0-9d8e-545e74627c7a",
   "metadata": {},
   "outputs": [],
   "source": [
    "gdp_2020 = gdp_df[gdp_df[\"Year\"] == 2020][\"GDP_Per_Capita\"].dropna()"
   ]
  },
  {
   "cell_type": "code",
   "execution_count": 268,
   "id": "dca96ed5-b237-4557-b8d4-39a0e3dc590e",
   "metadata": {},
   "outputs": [
    {
     "data": {
      "text/plain": [
       "<seaborn.axisgrid.FacetGrid at 0x2781c233350>"
      ]
     },
     "execution_count": 268,
     "metadata": {},
     "output_type": "execute_result"
    },
    {
     "data": {
      "image/png": "[encoded data removed]",
      "text/plain": [
       "<Figure size 500x500 with 1 Axes>"
      ]
     },
     "metadata": {},
     "output_type": "display_data"
    }
   ],
   "source": [
    "sns.displot(data=gdp_2020, kde=True, bins=20, color=\"black\")"
   ]
  },
  {
   "cell_type": "markdown",
   "id": "54050262-958f-4864-a59c-37d9231c63a5",
   "metadata": {},
   "source": [
    "# Create a density plot "
   ]
  },
  {
   "cell_type": "code",
   "execution_count": 270,
   "id": "e43f1e74-6c91-4c21-8c74-28913690abb4",
   "metadata": {},
   "outputs": [
    {
     "data": {
      "text/plain": [
       "<Axes: xlabel='GDP_Per_Capita', ylabel='Density'>"
      ]
     },
     "execution_count": 270,
     "metadata": {},
     "output_type": "execute_result"
    },
    {
     "data": {
      "image/png": "[encoded data removed]",
      "text/plain": [
       "<Figure size 640x480 with 1 Axes>"
      ]
     },
     "metadata": {},
     "output_type": "display_data"
    }
   ],
   "source": [
    "sns.kdeplot(gdp_2020, fill=True, color=\"black\")"
   ]
  },
  {
   "cell_type": "markdown",
   "id": "d6c8767d-0797-4c1d-ba11-0e9a1793ea02",
   "metadata": {},
   "source": [
    "# Create a boxplot"
   ]
  },
  {
   "cell_type": "code",
   "execution_count": 293,
   "id": "61e97959-0b07-4389-b9f9-7b72b6c7f021",
   "metadata": {},
   "outputs": [
    {
     "data": {
      "text/plain": [
       "<Axes: xlabel='GDP_Per_Capita', ylabel='Year'>"
      ]
     },
     "execution_count": 293,
     "metadata": {},
     "output_type": "execute_result"
    },
    {
     "data": {
      "image/png": "[encoded data removed]",
      "text/plain": [
       "<Figure size 640x480 with 1 Axes>"
      ]
     },
     "metadata": {},
     "output_type": "display_data"
    }
   ],
   "source": [
    "sns.boxplot(x=\"GDP_Per_Capita\", y=\"Year\", data=gdp_df)"
   ]
  },
  {
   "cell_type": "markdown",
   "id": "0636f82e-b375-4718-abcd-7d7765850720",
   "metadata": {},
   "source": [
    " # Create a violin plot"
   ]
  },
  {
   "cell_type": "code",
   "execution_count": 291,
   "id": "ab2b8646-84ff-42fa-b00c-829dfbbed448",
   "metadata": {},
   "outputs": [
    {
     "data": {
      "text/plain": [
       "<Axes: xlabel='Year', ylabel='GDP_Per_Capita'>"
      ]
     },
     "execution_count": 291,
     "metadata": {},
     "output_type": "execute_result"
    },
    {
     "data": {
      "image/png": "[encoded data removed]",
      "text/plain": [
       "<Figure size 640x480 with 1 Axes>"
      ]
     },
     "metadata": {},
     "output_type": "display_data"
    }
   ],
   "source": [
    "sns.violinplot(x=\"Year\", y=\"GDP_Per_Capita\", data=gdp_df)"
   ]
  },
  {
   "cell_type": "markdown",
   "id": "5ee5298a-0b9e-468e-a70b-3981a0548a07",
   "metadata": {},
   "source": [
    "Can't figure out the graphs, I need to find out how to select my axes better "
   ]
  },
  {
   "cell_type": "markdown",
   "id": "39133b2a-1168-4a43-beb7-f4a566f99943",
   "metadata": {},
   "source": [
    "# 9. What was the median GDP per capita value in 2020?"
   ]
  },
  {
   "cell_type": "code",
   "execution_count": 162,
   "id": "ae21a030-735b-4579-988d-62cc138a51f0",
   "metadata": {},
   "outputs": [
    {
     "name": "stdout",
     "output_type": "stream",
     "text": [
      "                          Country  Year  GDP_Per_Capita\n",
      "3                     Afghanistan  2020     2769.685745\n",
      "27    Africa Eastern and Southern  2020     3861.111238\n",
      "61     Africa Western and Central  2020     4622.731427\n",
      "95                        Albania  2020    14650.395929\n",
      "129                       Algeria  2020    14194.155748\n",
      "...                           ...   ...             ...\n",
      "8068               Virgin Islands  2020    45055.782930\n",
      "8090           West Bank and Gaza  2020     5423.682547\n",
      "8120                        World  2020    18600.986362\n",
      "8154                       Zambia  2020     3391.595412\n",
      "8188                     Zimbabwe  2020     2987.269823\n",
      "\n",
      "[247 rows x 3 columns]\n"
     ]
    }
   ],
   "source": [
    "gdp_for_2020 = gdp_df[gdp_df[\"Year\"] == 2020]\n",
    "print(gdp_for_2020)"
   ]
  },
  {
   "cell_type": "code",
   "execution_count": 164,
   "id": "49bde231-6439-4aed-b409-8cba05112545",
   "metadata": {},
   "outputs": [
    {
     "name": "stdout",
     "output_type": "stream",
     "text": [
      "<bound method Series.median of 3        2769.685745\n",
      "27       3861.111238\n",
      "61       4622.731427\n",
      "95      14650.395929\n",
      "129     14194.155748\n",
      "            ...     \n",
      "8068    45055.782930\n",
      "8090     5423.682547\n",
      "8120    18600.986362\n",
      "8154     3391.595412\n",
      "8188     2987.269823\n",
      "Name: GDP_Per_Capita, Length: 247, dtype: float64>\n"
     ]
    }
   ],
   "source": [
    "median_gdp = gdp_for_2020[\"GDP_Per_Capita\"].median\n",
    "print(median_gdp)"
   ]
  },
  {
   "cell_type": "markdown",
   "id": "0808adae-69ee-4650-93f3-cfa20196126a",
   "metadata": {},
   "source": [
    "The median is 2769.68"
   ]
  },
  {
   "cell_type": "markdown",
   "id": "f2a32f3f-5360-47b8-a0c8-916f9aba1c64",
   "metadata": {},
   "source": [
    "# 10.Start by subsetting your data to just these 4 years into a new DataFrame named gdp_decades."
   ]
  },
  {
   "cell_type": "markdown",
   "id": "57a8506a-9bdb-40c7-aabc-49189b862cda",
   "metadata": {},
   "source": [
    "# 11. Which country was the first to have a GDP per capita greater than $100,000?"
   ]
  },
  {
   "cell_type": "code",
   "execution_count": 173,
   "id": "243b8d83-50a1-46ec-96f1-a635c4975abc",
   "metadata": {},
   "outputs": [
    {
     "name": "stdout",
     "output_type": "stream",
     "text": [
      "                   Country  Year  GDP_Per_Capita\n",
      "750                Bermuda  2011   101174.504104\n",
      "751                Bermuda  2010   105121.639689\n",
      "752                Bermuda  2009   108091.644563\n",
      "753                Bermuda  2008   115015.749469\n",
      "754                Bermuda  2007   117742.118950\n",
      "...                    ...   ...             ...\n",
      "7821  United Arab Emirates  1996   100563.698291\n",
      "7822  United Arab Emirates  1995   101412.082063\n",
      "7825  United Arab Emirates  1992   101100.487512\n",
      "7826  United Arab Emirates  1991   103098.537132\n",
      "7827  United Arab Emirates  1990   108057.042464\n",
      "\n",
      "[106 rows x 3 columns]\n"
     ]
    }
   ],
   "source": [
    "high_gdp_df = gdp_df[gdp_df[\"GDP_Per_Capita\"] > 100000]\n",
    "print(high_gdp_df)"
   ]
  },
  {
   "cell_type": "code",
   "execution_count": 177,
   "id": "5fbcca6b-ec8c-4499-af2d-76875aed4c3b",
   "metadata": {},
   "outputs": [
    {
     "name": "stdout",
     "output_type": "stream",
     "text": [
      "Country           United Arab Emirates\n",
      "Year                              1990\n",
      "GDP_Per_Capita           108057.042464\n",
      "Name: 7827, dtype: object\n"
     ]
    }
   ],
   "source": [
    "first_high_gdp = high_gdp_df.sort_values(\"Year\").iloc[0]\n",
    "print(first_high_gdp)"
   ]
  },
  {
   "cell_type": "markdown",
   "id": "14b241ce-0950-48b9-a3a0-a441c258c8bd",
   "metadata": {},
   "source": [
    "United Arab Emirates was the first country to have a GDP per capita greater than $100,000. "
   ]
  },
  {
   "cell_type": "markdown",
   "id": "7914489e-44f4-46d0-85e3-8faf09e18f29",
   "metadata": {},
   "source": [
    "# 12.Which country had the highest GDP per capita in 2020?"
   ]
  },
  {
   "cell_type": "code",
   "execution_count": 248,
   "id": "df0666aa-c9fc-4593-9b1a-4b28ccdd268f",
   "metadata": {},
   "outputs": [
    {
     "name": "stdout",
     "output_type": "stream",
     "text": [
      "                          Country  Year  GDP_Per_Capita\n",
      "3                     Afghanistan  2020     2769.685745\n",
      "27    Africa Eastern and Southern  2020     3861.111238\n",
      "61     Africa Western and Central  2020     4622.731427\n",
      "95                        Albania  2020    14650.395929\n",
      "129                       Algeria  2020    14194.155748\n",
      "...                           ...   ...             ...\n",
      "8068               Virgin Islands  2020    45055.782930\n",
      "8090           West Bank and Gaza  2020     5423.682547\n",
      "8120                        World  2020    18600.986362\n",
      "8154                       Zambia  2020     3391.595412\n",
      "8188                     Zimbabwe  2020     2987.269823\n",
      "\n",
      "[247 rows x 3 columns]\n"
     ]
    }
   ],
   "source": [
    "gdp_2020 = gdp_df[gdp_df[\"Year\"] == 2020]\n",
    "print(gdp_2020)"
   ]
  },
  {
   "cell_type": "code",
   "execution_count": 187,
   "id": "95bdd07a-60c9-4c23-9907-a3c7a4b75cac",
   "metadata": {},
   "outputs": [
    {
     "name": "stdout",
     "output_type": "stream",
     "text": [
      "Country              Luxembourg\n",
      "Year                       2020\n",
      "GDP_Per_Capita    128256.560341\n",
      "Name: 4426, dtype: object\n"
     ]
    }
   ],
   "source": [
    "highest_gdp_country = gdp_2020.loc[gdp_2020[\"GDP_Per_Capita\"].idxmax()]\n",
    "print(highest_gdp_country)"
   ]
  },
  {
   "cell_type": "markdown",
   "id": "34c39dfa-b0d6-4270-8712-08d90441815d",
   "metadata": {},
   "source": [
    "Luxemburg had the highest GDP per capita in 2020."
   ]
  },
  {
   "cell_type": "markdown",
   "id": "fa1fa0b4-62ee-4483-bd6f-11cc7615ce61",
   "metadata": {},
   "source": [
    "# 13.Which country had the lowest GDP per capita in 2020?"
   ]
  },
  {
   "cell_type": "code",
   "execution_count": 199,
   "id": "eae4e245-6dbd-4547-80f3-409da40634b0",
   "metadata": {},
   "outputs": [
    {
     "name": "stdout",
     "output_type": "stream",
     "text": [
      "Country              Burundi\n",
      "Year                    2020\n",
      "GDP_Per_Capita    833.920257\n",
      "Name: 1046, dtype: object\n"
     ]
    }
   ],
   "source": [
    "gdp_2020 = gdp_df[gdp_df[\"Year\"] == 2020]\n",
    "lowest_gdp_country = gdp_2020.loc[gdp_2020[\"GDP_Per_Capita\"].idxmin()]\n",
    "print(lowest_gdp_country)"
   ]
  },
  {
   "cell_type": "markdown",
   "id": "dbffd112-79f3-41b5-bb89-b01bc12506d3",
   "metadata": {},
   "source": [
    "Read in the internet use dataset into a DataFrame named internet_df. "
   ]
  },
  {
   "cell_type": "code",
   "execution_count": 215,
   "id": "a7f5d07d-25db-4cec-a8b8-e6424cc1c6d2",
   "metadata": {},
   "outputs": [],
   "source": [
    "internet_df = pd.read_csv(\"../data/internet_use.csv\", nrows=6083)"
   ]
  },
  {
   "cell_type": "code",
   "execution_count": 217,
   "id": "df18ec4e-846c-4928-b435-d0011316fee2",
   "metadata": {},
   "outputs": [
    {
     "data": {
      "text/html": [
       "<div>\n",
       "<style scoped>\n",
       "    .dataframe tbody tr th:only-of-type {\n",
       "        vertical-align: middle;\n",
       "    }\n",
       "\n",
       "    .dataframe tbody tr th {\n",
       "        vertical-align: top;\n",
       "    }\n",
       "\n",
       "    .dataframe thead th {\n",
       "        text-align: right;\n",
       "    }\n",
       "</style>\n",
       "<table border=\"1\" class=\"dataframe\">\n",
       "  <thead>\n",
       "    <tr style=\"text-align: right;\">\n",
       "      <th></th>\n",
       "      <th>Country or Area</th>\n",
       "      <th>Year</th>\n",
       "      <th>Value</th>\n",
       "      <th>Value Footnotes</th>\n",
       "    </tr>\n",
       "  </thead>\n",
       "  <tbody>\n",
       "    <tr>\n",
       "      <th>0</th>\n",
       "      <td>Afghanistan</td>\n",
       "      <td>2019</td>\n",
       "      <td>17.60</td>\n",
       "      <td>1</td>\n",
       "    </tr>\n",
       "    <tr>\n",
       "      <th>1</th>\n",
       "      <td>Afghanistan</td>\n",
       "      <td>2018</td>\n",
       "      <td>16.80</td>\n",
       "      <td>2</td>\n",
       "    </tr>\n",
       "    <tr>\n",
       "      <th>2</th>\n",
       "      <td>Afghanistan</td>\n",
       "      <td>2017</td>\n",
       "      <td>13.50</td>\n",
       "      <td>3</td>\n",
       "    </tr>\n",
       "    <tr>\n",
       "      <th>3</th>\n",
       "      <td>Afghanistan</td>\n",
       "      <td>2016</td>\n",
       "      <td>11.00</td>\n",
       "      <td>4</td>\n",
       "    </tr>\n",
       "    <tr>\n",
       "      <th>4</th>\n",
       "      <td>Afghanistan</td>\n",
       "      <td>2015</td>\n",
       "      <td>8.26</td>\n",
       "      <td>4</td>\n",
       "    </tr>\n",
       "  </tbody>\n",
       "</table>\n",
       "</div>"
      ],
      "text/plain": [
       "  Country or Area  Year  Value Value Footnotes\n",
       "0     Afghanistan  2019  17.60               1\n",
       "1     Afghanistan  2018  16.80               2\n",
       "2     Afghanistan  2017  13.50               3\n",
       "3     Afghanistan  2016  11.00               4\n",
       "4     Afghanistan  2015   8.26               4"
      ]
     },
     "execution_count": 217,
     "metadata": {},
     "output_type": "execute_result"
    }
   ],
   "source": [
    "internet_df.head()"
   ]
  },
  {
   "cell_type": "code",
   "execution_count": 219,
   "id": "9e770d41-c70e-42e3-a09f-c4ac57381a58",
   "metadata": {},
   "outputs": [
    {
     "data": {
      "text/html": [
       "<div>\n",
       "<style scoped>\n",
       "    .dataframe tbody tr th:only-of-type {\n",
       "        vertical-align: middle;\n",
       "    }\n",
       "\n",
       "    .dataframe tbody tr th {\n",
       "        vertical-align: top;\n",
       "    }\n",
       "\n",
       "    .dataframe thead th {\n",
       "        text-align: right;\n",
       "    }\n",
       "</style>\n",
       "<table border=\"1\" class=\"dataframe\">\n",
       "  <thead>\n",
       "    <tr style=\"text-align: right;\">\n",
       "      <th></th>\n",
       "      <th>Country or Area</th>\n",
       "      <th>Year</th>\n",
       "      <th>Value</th>\n",
       "      <th>Value Footnotes</th>\n",
       "    </tr>\n",
       "  </thead>\n",
       "  <tbody>\n",
       "    <tr>\n",
       "      <th>6078</th>\n",
       "      <td>Zimbabwe</td>\n",
       "      <td>1997</td>\n",
       "      <td>0.033080</td>\n",
       "      <td>NaN</td>\n",
       "    </tr>\n",
       "    <tr>\n",
       "      <th>6079</th>\n",
       "      <td>Zimbabwe</td>\n",
       "      <td>1996</td>\n",
       "      <td>0.016790</td>\n",
       "      <td>NaN</td>\n",
       "    </tr>\n",
       "    <tr>\n",
       "      <th>6080</th>\n",
       "      <td>Zimbabwe</td>\n",
       "      <td>1995</td>\n",
       "      <td>0.007684</td>\n",
       "      <td>NaN</td>\n",
       "    </tr>\n",
       "    <tr>\n",
       "      <th>6081</th>\n",
       "      <td>Zimbabwe</td>\n",
       "      <td>1994</td>\n",
       "      <td>0.001739</td>\n",
       "      <td>NaN</td>\n",
       "    </tr>\n",
       "    <tr>\n",
       "      <th>6082</th>\n",
       "      <td>Zimbabwe</td>\n",
       "      <td>1990</td>\n",
       "      <td>0.000000</td>\n",
       "      <td>NaN</td>\n",
       "    </tr>\n",
       "  </tbody>\n",
       "</table>\n",
       "</div>"
      ],
      "text/plain": [
       "     Country or Area  Year     Value Value Footnotes\n",
       "6078        Zimbabwe  1997  0.033080             NaN\n",
       "6079        Zimbabwe  1996  0.016790             NaN\n",
       "6080        Zimbabwe  1995  0.007684             NaN\n",
       "6081        Zimbabwe  1994  0.001739             NaN\n",
       "6082        Zimbabwe  1990  0.000000             NaN"
      ]
     },
     "execution_count": 219,
     "metadata": {},
     "output_type": "execute_result"
    }
   ],
   "source": [
    "internet_df.tail()"
   ]
  },
  {
   "cell_type": "markdown",
   "id": "afba2dc4-6268-4845-b4fa-8cf0c333598d",
   "metadata": {},
   "source": [
    "# 15.Drop the Value Footnotes column and rename the remaining three to 'Country', 'Year', and 'Internet_Users_Pct'."
   ]
  },
  {
   "cell_type": "code",
   "execution_count": 231,
   "id": "d09775d1-c8ff-4d96-9b0d-ac1a9e55b5ef",
   "metadata": {},
   "outputs": [
    {
     "name": "stdout",
     "output_type": "stream",
     "text": [
      "Index(['Country or Area', 'Year', 'Value'], dtype='object')\n"
     ]
    }
   ],
   "source": [
    "print(internet_df.columns)"
   ]
  },
  {
   "cell_type": "code",
   "execution_count": 299,
   "id": "fe8b65f8-6ea6-4764-b930-26681f1fece3",
   "metadata": {},
   "outputs": [],
   "source": [
    "internet_df = internet_df.rename(columns={\n",
    "    \"Country or Area\": \"Country\",\n",
    "    \"Value\": \"Internet_Users\"})"
   ]
  },
  {
   "cell_type": "code",
   "execution_count": 237,
   "id": "c3e9009d-1428-4239-b399-33db726059ad",
   "metadata": {},
   "outputs": [
    {
     "name": "stdout",
     "output_type": "stream",
     "text": [
      "          Country  Year  Internet_Users\n",
      "0     Afghanistan  2019       17.600000\n",
      "1     Afghanistan  2018       16.800000\n",
      "2     Afghanistan  2017       13.500000\n",
      "3     Afghanistan  2016       11.000000\n",
      "4     Afghanistan  2015        8.260000\n",
      "...           ...   ...             ...\n",
      "6078     Zimbabwe  1997        0.033080\n",
      "6079     Zimbabwe  1996        0.016790\n",
      "6080     Zimbabwe  1995        0.007684\n",
      "6081     Zimbabwe  1994        0.001739\n",
      "6082     Zimbabwe  1990        0.000000\n",
      "\n",
      "[6083 rows x 3 columns]\n"
     ]
    }
   ],
   "source": [
    "print(internet_df)"
   ]
  },
  {
   "cell_type": "markdown",
   "id": "1a189723-12a8-44b0-8440-6781324ce48e",
   "metadata": {},
   "source": [
    "# 16.Look at the number of observations in this dataset per year. What do you notice?"
   ]
  },
  {
   "cell_type": "code",
   "execution_count": 301,
   "id": "d15adf74-c999-4eb5-97da-5d1d2b7ca4cd",
   "metadata": {},
   "outputs": [
    {
     "ename": "NameError",
     "evalue": "name 'Year' is not defined",
     "output_type": "error",
     "traceback": [
      "\u001b[1;31m---------------------------------------------------------------------------\u001b[0m",
      "\u001b[1;31mNameError\u001b[0m                                 Traceback (most recent call last)",
      "Cell \u001b[1;32mIn[301], line 1\u001b[0m\n\u001b[1;32m----> 1\u001b[0m sns\u001b[38;5;241m.\u001b[39mbarplot(x\u001b[38;5;241m=\u001b[39mYear\u001b[38;5;241m.\u001b[39mindex, y\u001b[38;5;241m=\u001b[39mYear\u001b[38;5;241m.\u001b[39mvalues)\n",
      "\u001b[1;31mNameError\u001b[0m: name 'Year' is not defined"
     ]
    }
   ],
   "source": [
    "sns.barplot(x=Year.index, y=Year.values)"
   ]
  },
  {
   "cell_type": "code",
   "execution_count": null,
   "id": "aece3523-3d77-45ba-9646-8521db0f5c79",
   "metadata": {},
   "outputs": [],
   "source": []
  }
 ],
 "metadata": {
  "kernelspec": {
   "display_name": "Python [conda env:base] *",
   "language": "python",
   "name": "conda-base-py"
  },
  "language_info": {
   "codemirror_mode": {
    "name": "ipython",
    "version": 3
   },
   "file_extension": ".py",
   "mimetype": "text/x-python",
   "name": "python",
   "nbconvert_exporter": "python",
   "pygments_lexer": "ipython3",
   "version": "3.12.7"
  }
 },
 "nbformat": 4,
 "nbformat_minor": 5
}
